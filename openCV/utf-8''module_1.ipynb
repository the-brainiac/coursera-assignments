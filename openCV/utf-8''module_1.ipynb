{
 "cells": [
  {
   "cell_type": "markdown",
   "metadata": {
    "colab_type": "text",
    "id": "eQtiNRrFlYn0"
   },
   "source": [
    "## The Python Imaging Library (PIL)\n",
    "The Python Imaging Library, which is known as PIL or PILLOW, is the main library we use in python for dealing with image files. This library is not included with python - it's what's known as a third party library, which means you have to download and install it yourself. In the Coursera system, this has all been done for you. Lets do a little exploring of pillow in the jupyter notebooks."
   ]
  },
  {
   "cell_type": "code",
   "execution_count": null,
   "metadata": {
    "colab": {},
    "colab_type": "code",
    "collapsed": true,
    "id": "EvBaW-wdlYn1"
   },
   "outputs": [],
   "source": [
    "# You'll recall that we import a library using the `import` keyword.\n",
    "import PIL"
   ]
  },
  {
   "cell_type": "code",
   "execution_count": null,
   "metadata": {
    "colab": {},
    "colab_type": "code",
    "collapsed": true,
    "id": "pjLJFD4FlYn7",
    "outputId": "495242b0-2908-423d-eed5-887ae55aefb9"
   },
   "outputs": [],
   "source": [
    "# Documentation is a big help in learning a library. There exist standards that make this process easier. \n",
    "# For example, most libraries let you check their version using the version attribute.\n",
    "PIL.__version__"
   ]
  },
  {
   "cell_type": "code",
   "execution_count": null,
   "metadata": {
    "collapsed": true
   },
   "outputs": [],
   "source": [
    "# Let's figure out how to open an image with `Pillow`. Python provides some built-in functions to help us\n",
    "# understand the functions and objects which are available in libraries. For instance, the help function,\n",
    "# when called on any object, returns the object’s built-in documentation. Lets try it with our new library\n",
    "# module, PIL.\n",
    "help(PIL)"
   ]
  },
  {
   "cell_type": "code",
   "execution_count": null,
   "metadata": {
    "colab_type": "text",
    "collapsed": true,
    "id": "K-P65GaxlYoO"
   },
   "outputs": [],
   "source": [
    "# This shows us that there are a host of classes available to us in the module, as well as version information \n",
    "# and even the file, called __init__.py, which has the source code for the module itself. We could look up \n",
    "# the source code for this in the Jupyter console if we wanted to. These documentation standards make it easy\n",
    "# to poke around an unexplored library.\n",
    "#\n",
    "# Python also has a function called dir() which will list the contents of an object. This is especially useful\n",
    "# with modules where you might want to see what classes you might interact with. Lets list the details of \n",
    "# the PIL module\n",
    "dir(PIL)"
   ]
  },
  {
   "cell_type": "code",
   "execution_count": null,
   "metadata": {
    "colab": {},
    "colab_type": "code",
    "collapsed": true,
    "id": "aWJHxE3dlYop"
   },
   "outputs": [],
   "source": [
    "# At the top of the list, there is something called Image. This sounds like it could be interesting, so lets \n",
    "# import it directly, and run the help command on it.\n",
    "from PIL import Image\n",
    "help(Image)"
   ]
  },
  {
   "cell_type": "markdown",
   "metadata": {
    "colab_type": "text",
    "id": "i31VS--ilYov"
   },
   "source": [
    "Running help() on Image tells us that this object is \"the Image class wrapper\". We see from the top level documentation about the image object that there is \"hardly ever any reason to call the Image constructor directly\", and they suggest that the open function might be the way to go."
   ]
  },
  {
   "cell_type": "code",
   "execution_count": null,
   "metadata": {
    "collapsed": true
   },
   "outputs": [],
   "source": [
    "# Lets call help on the open function to see what it's all about. Remember that since we want to pass in the\n",
    "# function reference, and not run the function itself, we don't put paretheses behind the function name.\n",
    "help(Image.open)"
   ]
  },
  {
   "cell_type": "code",
   "execution_count": null,
   "metadata": {
    "colab_type": "text",
    "collapsed": true,
    "id": "-RdgfWVBlYo-"
   },
   "outputs": [],
   "source": [
    "# It looks like Image.open() is a function that loads an image from a file and returns an instance \n",
    "# of the Image class. Lets give it a try. In the read_only directory there is an image I've provided\n",
    "# which is from our Master's of Information program recruitment flyer. Lets try and load that now\n",
    "\n",
    "file=\"readonly/msi_recruitment.gif\"\n",
    "image=Image.open(file)\n",
    "print(image)"
   ]
  },
  {
   "cell_type": "code",
   "execution_count": null,
   "metadata": {
    "colab": {},
    "colab_type": "code",
    "collapsed": true,
    "id": "DLVfTdxBlYpE"
   },
   "outputs": [],
   "source": [
    "# Ok, we see that this returns us a kind of PIL.GifImagePlugin.GifImageFile. At first this might\n",
    "# seem a bit confusing, since because we were told by the docs that we should be exepcting a\n",
    "# PIL.Image.Image object back. But this is just object inheritance working! In fact, the object\n",
    "# returned is both an Image and a GifImageFile. We can use the python inspect module to see this\n",
    "# as the getmro function will return a list of all of the classes that are being inherited by a\n",
    "# given object. Lets try it.\n",
    "\n",
    "import inspect\n",
    "print(\"The type of the image is \" + str(type(image)))\n",
    "inspect.getmro(type(image))"
   ]
  },
  {
   "cell_type": "code",
   "execution_count": null,
   "metadata": {
    "colab_type": "text",
    "collapsed": true,
    "id": "DQ0ozVWXlYpF"
   },
   "outputs": [],
   "source": [
    "# Now that we are comfortable with the object. How do we view the image? It turns out that the\n",
    "# image object has a show function. You can find this by looking at all of the properties of\n",
    "# the object if you wanted to, using the dir() function.\n",
    "image.show()"
   ]
  },
  {
   "cell_type": "code",
   "execution_count": null,
   "metadata": {
    "colab_type": "text",
    "collapsed": true,
    "id": "XF2qDmRjlYpJ"
   },
   "outputs": [],
   "source": [
    "# Hrm, that didn't seem to have the intended effect. The problem is that the image is stored\n",
    "# remotely, on Coursera's server, but show tries to show it locally to you. So, if the Coursera\n",
    "# server software was running on someone's workstation in Mountain View California, where Coursera\n",
    "# has its offices, then you just popped up a picture of our recruitment materials. Thanks! :)\n",
    "# Instead, we want to render the image in the Jupyter notebook. It turns out Jupyter has a function\n",
    "# which can help with this.\n",
    "from IPython.display import display\n",
    "display(image)"
   ]
  },
  {
   "cell_type": "markdown",
   "metadata": {},
   "source": [
    "For those who would like to understand this in more detail, the Jupyter environment is running a special wrapper around the Python interpretor, called IPython. IPython allows the kernel back end to communicate with a browser front end, among other things. The IPython package has a display function which can take objects and use custom formatters in order to render them. A number of formatters are provided by default, including one which knows how to handle image types.\n",
    "\n",
    "That's a quick overview of how to read and display images using pillow, in the next lecture we'll jump in a bit more detail to understand how to use pillow to manipulate images."
   ]
  },
  {
   "cell_type": "markdown",
   "metadata": {},
   "source": [
    "## Common Functions in the Python Imaging Library\n",
    "Lets take a look at some of the common tasks we can do in python using the pillow library."
   ]
  },
  {
   "cell_type": "code",
   "execution_count": null,
   "metadata": {
    "collapsed": true
   },
   "outputs": [],
   "source": [
    "# First, lets import the PIL library and the Image object\n",
    "import PIL\n",
    "from PIL import Image\n",
    "# And lets import the display functionality\n",
    "from IPython.display import display\n",
    "# And finally, lets load the image we were working with last time\n",
    "file=\"readonly/msi_recruitment.gif\"\n",
    "image=Image.open(file)"
   ]
  },
  {
   "cell_type": "code",
   "execution_count": null,
   "metadata": {
    "collapsed": true
   },
   "outputs": [],
   "source": [
    "# Great, now lets check out a few more methods of the image library. First, we'll look at copy\n",
    "# And if you remember, we can do this using the built in python help() function\n",
    "help(image.copy)"
   ]
  },
  {
   "cell_type": "code",
   "execution_count": null,
   "metadata": {
    "collapsed": true
   },
   "outputs": [],
   "source": []
  },
  {
   "cell_type": "code",
   "execution_count": null,
   "metadata": {
    "collapsed": true
   },
   "outputs": [],
   "source": [
    "# We can see that copy takes no arguments, and that the return object is an Image object itself. Now lets\n",
    "# look at save\n",
    "help(image.save)"
   ]
  },
  {
   "cell_type": "code",
   "execution_count": null,
   "metadata": {
    "collapsed": true
   },
   "outputs": [],
   "source": [
    "# The save method has a couple of parameters which are interesting. The first, called fp, is the filename\n",
    "# we want to save the object too. The second, format, is interesting, it allows us to change the type of\n",
    "# the image, but the docs tell us that this should be done automatically by looking at the file extension\n",
    "# as well. Lets give it a try -- this file was originally a GifImageFile, but I bet if we save it with a\n",
    "# .png format and read it in again we'll get a different kind of file\n",
    "image.save(\"msi_recruitment.png\")\n",
    "image=Image.open(\"msi_recruitment.png\")\n",
    "import inspect\n",
    "inspect.getmro(type(image))"
   ]
  },
  {
   "cell_type": "code",
   "execution_count": null,
   "metadata": {
    "collapsed": true
   },
   "outputs": [],
   "source": [
    "# Indeed, this created a new file, which we could view by going to the Jupyter notebook file list by clicking\n",
    "# on the logo at the top of the browser, and we can see this new object is actually a PngImageFile object\n",
    "# For the purposes of this class the difference in image formats isn't so important, but it's nice that you can\n",
    "# explore how a library works using the functions of help(), dir() and getmro().\n",
    "#\n",
    "# The PILLOW library also has some nice image filters to add some effects. It does this through the filter()\n",
    "# function. The filter() function takes a Filter object, and those are all stored in the ImageFilter object.\n",
    "# Lets take a look.\n",
    "from PIL import ImageFilter\n",
    "help(ImageFilter)"
   ]
  },
  {
   "cell_type": "code",
   "execution_count": null,
   "metadata": {
    "collapsed": true
   },
   "outputs": [],
   "source": [
    "# There are a bunch of different filters here, but lets just try and apply the BLUR filter. Before we do this\n",
    "# we have to convert the image to RGB mode. This is a bit magical -- images like gifs are limited in how many\n",
    "# colors can be displayed at once based on the size of the pallet. This is similar to a painters pallet, which\n",
    "# only has so much room. This is actually a very old image file format. If we convert the image into something\n",
    "# more sophisticated we can apply these interesting image transforms. Sometimes learning a new library means\n",
    "# digging a bit deeper into the domain the library is about. We can convert the image using the convert()\n",
    "# function.\n",
    "image=image.convert('RGB') # this stands for red, green blue mode\n",
    "blurred_image=image.filter(PIL.ImageFilter.BLUR)\n",
    "display(blurred_image)"
   ]
  },
  {
   "cell_type": "code",
   "execution_count": null,
   "metadata": {
    "collapsed": true
   },
   "outputs": [],
   "source": [
    "# Ok, let me show you one more function in the lecture, which is crop(). This removes portions of the image\n",
    "# except for the bounding box you describe. When you think of images, think of individual dots or pixels\n",
    "# which make up that image being lined up in a grid. You can actually see the number of pixels high the image\n",
    "# is and the width of the image \n",
    "print(\"{}x{}\".format(image.width, image.height))"
   ]
  },
  {
   "cell_type": "code",
   "execution_count": null,
   "metadata": {
    "collapsed": true
   },
   "outputs": [],
   "source": [
    "# This means that the image is 800 pixels wide (the X axis), and 450 pixels high (the Y axis). If we take a \n",
    "# look at the crop documentation we see that the first parameter to the function is a tuple which is the \n",
    "# left, upper, right, and lower values of the X/Y coordinates\n",
    "help(image.crop)"
   ]
  },
  {
   "cell_type": "code",
   "execution_count": null,
   "metadata": {
    "collapsed": true
   },
   "outputs": [],
   "source": [
    "# With PIL images, we define the bounding box using the upper left corner and the lower right corner. And\n",
    "# we count the number of pixels out from the upper left corner, which is 0,0. This might seem odd if you're\n",
    "# used to coordinate systems where you start in the lower left -- just remember that we define our box in the\n",
    "# same way we count out positions in the image.\n",
    "#\n",
    "# So, if we wanted to get the Michigan logo out of this image, we might start with the left at, say 50 pixels,\n",
    "# and the top at 0 pixels, then we might walk to the right another 190 pixels, and set the lower bound to say\n",
    "# 150 pixels\n",
    "display(image.crop((50,0,190,150)))"
   ]
  },
  {
   "cell_type": "code",
   "execution_count": null,
   "metadata": {
    "collapsed": true
   },
   "outputs": [],
   "source": [
    "# Of course crop(), like other functions, only returns a copy of the image, and doesn't change the image itself.\n",
    "# A strategy I like to do is try and draw the bounding box directly on the image, when I'm trying to line things\n",
    "# up. We can draw on images using the ImageDraw object. I'm not going to go into this in detail, but here's a \n",
    "# quick example of how. I might draw the bounding box in this case.\n",
    "from PIL import ImageDraw\n",
    "drawing_object=ImageDraw.Draw(image)\n",
    "drawing_object.rectangle((50,0,190,150), fill = None, outline ='red')\n",
    "display(image)"
   ]
  },
  {
   "cell_type": "markdown",
   "metadata": {},
   "source": [
    "Ok, that's been an overview of how to use PIL for single images. But, a lot of work might involve multiple images, and putting images together. In the next lecture we'll tackle that, and set you up for the assignment."
   ]
  },
  {
   "cell_type": "markdown",
   "metadata": {},
   "source": [
    "## Additional PILLOW functions\n",
    "Lets take a look at some other functions we might want to use in PILLOW to modify images."
   ]
  },
  {
   "cell_type": "code",
   "execution_count": null,
   "metadata": {
    "collapsed": true
   },
   "outputs": [],
   "source": [
    "# First, lets import all of the library functions we need\n",
    "import PIL\n",
    "from PIL import Image\n",
    "from IPython.display import display\n",
    "\n",
    "# And lets load the image we were working, and we can just convert it to RGB inline\n",
    "file=\"readonly/msi_recruitment.gif\"\n",
    "image=Image.open(file).convert('RGB')\n",
    "\n",
    "display(image)"
   ]
  },
  {
   "cell_type": "code",
   "execution_count": null,
   "metadata": {
    "collapsed": true
   },
   "outputs": [],
   "source": [
    "# First, lets import all of the library functions we need\n",
    "import PIL\n",
    "from PIL import Image\n",
    "from IPython.display import display\n",
    "\n",
    "# And lets load the image we were working, and we can just convert it to RGB inline\n",
    "file=\"readonly/msi_recruitment.gif\"\n",
    "image=Image.open(file).convert('RGB')\n",
    "\n",
    "display(image)"
   ]
  },
  {
   "cell_type": "code",
   "execution_count": null,
   "metadata": {
    "collapsed": true
   },
   "outputs": [],
   "source": [
    "# A task that is fairly common in image and picture manipulation is to create contact sheets of images.\n",
    "# A contact sheet is one image that actually contains several other different images. Lets try and make\n",
    "# a contact sheet for the Master of Science in Information advertisment image. In particular, lets change\n",
    "# the brightness of the image in ten different ways, then scale the image down smaller, and put them side\n",
    "# by side so we can get the sense of which brightness we might want to use.\n",
    "#\n",
    "# First up, lets import the ImageEnhance module, which has a nice object called Brightness\n",
    "from PIL import ImageEnhance\n",
    "# Checking the online documentation for this function, it takes a value between 0.0 (a completely black\n",
    "# image) and 1.0 (the original image) to adjust the brightness. All of the classes in the ImageEnhance module\n",
    "# do this the same way, you create an object, in this case Brightness, then you call the enhance function()\n",
    "# on that object with an appropriate parameter.\n",
    "#\n",
    "# Lets write a little loop to generate ten images of different brightness. First we need the Brightness\n",
    "# object with our image\n",
    "enhancer=ImageEnhance.Brightness(image)\n",
    "images=[]\n",
    "for i in range(0, 10):\n",
    "    # We'll divide i by ten to get the decimal value we want, and append it to the images list\n",
    "    # we actually call the brightness routine by calling the enhance() function. Remember, you can dig into\n",
    "    # details of this using the help() function, or by consulting web docs\n",
    "    images.append(enhancer.enhance(i/10))\n",
    "# We can see the result here is a list of ten PIL.Image.Image objects. Jupyter nicely prints out the value\n",
    "# of python objects nested in lists\n",
    "print(images)"
   ]
  },
  {
   "cell_type": "code",
   "execution_count": null,
   "metadata": {
    "collapsed": true
   },
   "outputs": [],
   "source": [
    "# Lets take these images now and composite them, one above another, in a contact sheet.\n",
    "# There are several different approaches we can use, but I'll simply create a new image which is like\n",
    "# the first image, but ten times as high. Lets check out the PIL.Image.new functionality\n",
    "help(PIL.Image.new)\n"
   ]
  },
  {
   "cell_type": "code",
   "execution_count": null,
   "metadata": {
    "collapsed": true
   },
   "outputs": [],
   "source": [
    "# The new function requires that we pass it a mode. We're going to use the mode 'RGB' which stands for\n",
    "# Red, Green, and Blue, and is the mode of our current first image. There are lots of different image mode\n",
    "# formats, and this one is most common.\n",
    "# For the size we have a tuple, which is the width of the image and the height. We'll use the width of our\n",
    "# current first image, but for the height we'll multiple this by ten. This will make a sort of \"canvas\" for\n",
    "# our contact sheet. Finally, the color is optional, and we'll just leave it at black.\n",
    "first_image=images[0]\n",
    "from PIL import Image\n",
    "contact_sheet=PIL.Image.new(first_image.mode, (first_image.width,10*first_image.height))\n",
    "\n",
    "# So now we have a black image that's ten times the size of the other images in the contact_sheet\n",
    "# variable. Now lets just loop through the image list and paste() the results in. The paste() function\n",
    "# will be called on the contact_sheet object, and takes in a new image to paste, as well as an (x,y)\n",
    "# offset for that image. In our case, the x position is always 0, but the y location will change by\n",
    "# 450 pixels each time we iterate through the loop.\n",
    "#\n",
    "# Lets first create a counter variable for the y location. It will start at zero\n",
    "current_location = 0\n",
    "for img in images:\n",
    "    # Lets paste the current image into the contact sheet\n",
    "    contact_sheet.paste(img, (0, current_location) )\n",
    "    # And update the current_location counter\n",
    "    current_location=current_location+450\n",
    "\n",
    "# This contact sheet has gotten big: 4,500 pixels tall! Lets just resize this sheet for display. We can do\n",
    "# this using the resize() function. This function just takes a tuple of width and height, and we'll resize\n",
    "# everything down to the size of just two individual images\n",
    "contact_sheet = contact_sheet.resize((160,900) )\n",
    "# Now lets just display that composite image\n",
    "display(contact_sheet)"
   ]
  },
  {
   "cell_type": "code",
   "execution_count": null,
   "metadata": {
    "collapsed": true
   },
   "outputs": [],
   "source": [
    "# Ok, that's a nice proof of concept. But it's a little tough to see. Lets instead change this to a three\n",
    "# by three grid of values. First thing we should do is make our canvas, and we'll make it 3 times the\n",
    "# width of our image and 3 times the height of our image - a nine image square\n",
    "contact_sheet=PIL.Image.new(first_image.mode, (first_image.width*3,first_image.height*3))\n",
    "# Now we want to iterate over our images and place them into this grid. Remember that in PIL we manage the\n",
    "# location of where we refer to as an image in the upper right hand corner, so this will be 0,0. Lets use\n",
    "# one variable for the X dimension, and one for the Y dimension.\n",
    "x=0\n",
    "y=0\n",
    "\n",
    "# Now, lets iterate over our images. Except, we don't want to both with the first one, because it is\n",
    "# just solid black. Instead we want to just deal with the images after the first one, and that should\n",
    "# give us nine in total\n",
    "for img in images[1:]:\n",
    "    # Lets paste the current image into the contact sheet\n",
    "    contact_sheet.paste(img, (x, y) )\n",
    "    # Now we update our X position. If it is going to be the width of the image, then we set it to 0\n",
    "    # and update Y as well to point to the next \"line\" of the contact sheet.\n",
    "    if x+first_image.width == contact_sheet.width:\n",
    "        x=0\n",
    "        y=y+first_image.height\n",
    "    else:\n",
    "        x=x+first_image.width\n",
    "\n",
    "# Now lets resize the contact sheet. We'll just make it half the size by dividing it by two. And, because\n",
    "# the resize function needs to take round numbers, we need to convert our divisions from floating point\n",
    "# numbers into integers using the int() function.\n",
    "contact_sheet = contact_sheet.resize((int(contact_sheet.width/2),int(contact_sheet.height/2) ))\n",
    "# Now lets display that composite image\n",
    "display(contact_sheet)"
   ]
  },
  {
   "cell_type": "markdown",
   "metadata": {},
   "source": [
    "Well, that's been a tour of our first external API, the Python Imaging Library, or pillow module. In this series of lectures you've learned how to read and write images, manipulat them with pillow, and explore the functionality of third party APIs using features of Python like dir(), help(), and getmro(). You've also been introduced to the console, and how python stores these libraries on the computer. While for this course all of the libraries are included for you in the Coursera system, and you won't need to install your own, it's good to get a the idea of how this work in case you wanted to set this up on your own.\n",
    "\n",
    "Finally, while you can explore PILLOW from within python, most good modules also put their documentation up online, and you can read more about PILLOW here: https://pillow.readthedocs.io/en/latest/"
   ]
  }
 ],
 "metadata": {
  "colab": {
   "name": "Module 1.ipynb",
   "provenance": [],
   "version": "0.3.2"
  },
  "kernelspec": {
   "display_name": "Python 3",
   "language": "python",
   "name": "python3"
  },
  "language_info": {
   "codemirror_mode": {
    "name": "ipython",
    "version": 3
   },
   "file_extension": ".py",
   "mimetype": "text/x-python",
   "name": "python",
   "nbconvert_exporter": "python",
   "pygments_lexer": "ipython3",
   "version": "3.6.2"
  }
 },
 "nbformat": 4,
 "nbformat_minor": 2
}
